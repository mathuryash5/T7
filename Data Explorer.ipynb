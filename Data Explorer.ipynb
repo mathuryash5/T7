{
 "cells": [
  {
   "cell_type": "code",
   "execution_count": 23,
   "id": "958924a2",
   "metadata": {},
   "outputs": [],
   "source": [
    "import os\n",
    "import json\n",
    "import matplotlib.pyplot as plt"
   ]
  },
  {
   "cell_type": "code",
   "execution_count": 6,
   "id": "8bc8aa48",
   "metadata": {},
   "outputs": [],
   "source": [
    "train_path = os.path.join(\"training_data/train.json\")\n",
    "with open(train_path) as json_file:\n",
    "    train_data = json.load(json_file)"
   ]
  },
  {
   "cell_type": "code",
   "execution_count": 9,
   "id": "ed905815",
   "metadata": {},
   "outputs": [],
   "source": [
    "def get_ctr_field(docid, field):\n",
    "    ctr_path = os.path.join(\"training_data/CT json\",docid+\".json\")\n",
    "    with open(ctr_path) as json_file:\n",
    "        primary_ctr = json.load(json_file)\n",
    "    return primary_ctr[field]"
   ]
  },
  {
   "cell_type": "code",
   "execution_count": 15,
   "id": "f597fc41",
   "metadata": {},
   "outputs": [
    {
     "name": "stdout",
     "output_type": "stream",
     "text": [
      "199.18393234672305\n",
      "1681\n"
     ]
    }
   ],
   "source": [
    "statement_lengths = []\n",
    "for doc in train_data:\n",
    "    field_data = get_ctr_field(train_data[doc][\"Primary_id\"], train_data[doc][\"Section_id\"])\n",
    "    field_data = \" \".join(field_data)\n",
    "    statement_lengths.append(len(field_data.split(\" \")))\n",
    "    if \"Secondary_id\" in train_data[doc]:\n",
    "        field_data = get_ctr_field(train_data[doc][\"Secondary_id\"], train_data[doc][\"Section_id\"])\n",
    "        field_data = \" \".join(field_data)\n",
    "        statement_lengths.append(len(field_data.split(\" \")))\n",
    "print(sum(statement_lengths)/len(statement_lengths))\n",
    "print(max(statement_lengths))"
   ]
  },
  {
   "cell_type": "code",
   "execution_count": 18,
   "id": "8e30c082",
   "metadata": {},
   "outputs": [
    {
     "data": {
      "text/plain": [
       "89"
      ]
     },
     "execution_count": 18,
     "metadata": {},
     "output_type": "execute_result"
    }
   ],
   "source": [
    "statement_lengths[0]"
   ]
  }
 ],
 "metadata": {
  "kernelspec": {
   "display_name": "Python 3 (ipykernel)",
   "language": "python",
   "name": "python3"
  },
  "language_info": {
   "codemirror_mode": {
    "name": "ipython",
    "version": 3
   },
   "file_extension": ".py",
   "mimetype": "text/x-python",
   "name": "python",
   "nbconvert_exporter": "python",
   "pygments_lexer": "ipython3",
   "version": "3.10.4"
  }
 },
 "nbformat": 4,
 "nbformat_minor": 5
}
